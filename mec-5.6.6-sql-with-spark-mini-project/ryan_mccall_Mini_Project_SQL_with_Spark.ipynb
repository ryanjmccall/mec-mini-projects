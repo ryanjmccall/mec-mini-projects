{
	"cells": [{
		"cell_type": "markdown",
		"source": ["## SQL at Scale with Spark SQL\n\nWelcome to the SQL mini project. For this project, you will use the Databricks Platform and work through a series of exercises using Spark SQL. The dataset size may not be too big but the intent here is to familiarize yourself with the Spark SQL interface which scales easily to huge datasets, without you having to worry about changing your SQL queries. \n\nThe data you need is present in the mini-project folder in the form of three CSV files. This data will be imported in Databricks to create the following tables under the __`country_club`__ database.\n\n<br>\n1. The __`bookings`__ table,\n2. The __`facilities`__ table, and\n3. The __`members`__ table.\n\nYou will be uploading these datasets shortly into the Databricks platform to understand how to create a database within minutes! Once the database and the tables are populated, you will be focusing on the mini-project questions.\n\nIn the mini project, you'll be asked a series of questions. You can solve them using the databricks platform, but for the final deliverable,\nplease download this notebook as an IPython notebook (__`File -> Export -> IPython Notebook`__) and upload it to your GitHub."],
		"metadata": {
			"application/vnd.databricks.v1+cell": {
				"title": "",
				"showTitle": false,
				"inputWidgets": {},
				"nuid": "f4855504-ef14-4b19-88c2-8d0ed934a95c"
			}
		}
	}, {
		"cell_type": "markdown",
		"source": ["### Creating the Database\n\nWe will first create our database in which we will be creating our three tables of interest"],
		"metadata": {
			"application/vnd.databricks.v1+cell": {
				"title": "",
				"showTitle": false,
				"inputWidgets": {},
				"nuid": "a57e4a92-d9d0-4f12-a922-b92ea508ec37"
			}
		}
	}, {
		"cell_type": "code",
		"source": ["%sql \ndrop database if not exists country_club cascade;\ncreate database country_club;\nshow databases;"],
		"metadata": {
			"application/vnd.databricks.v1+cell": {
				"title": "",
				"showTitle": false,
				"inputWidgets": {},
				"nuid": "2f41ad93-0a0e-4f43-802d-431610474638"
			}
		},
		"outputs": [{
			"output_type": "display_data",
			"metadata": {
				"application/vnd.databricks.v1+output": {
					"overflow": false,
					"datasetInfos": [],
					"data": [
						["country_club"],
						["default"]
					],
					"plotOptions": {
						"displayType": "table",
						"customPlotOptions": {},
						"pivotColumns": [],
						"pivotAggregation": null,
						"xColumns": [],
						"yColumns": []
					},
					"columnCustomDisplayInfos": {},
					"aggType": "",
					"isJsonSchema": true,
					"removedWidgets": [],
					"aggSchema": [],
					"schema": [{
						"name": "databaseName",
						"type": "\"string\"",
						"metadata": "{}"
					}],
					"aggError": "",
					"aggData": [],
					"addedWidgets": {},
					"metadata": {},
					"dbfsResultPath": null,
					"type": "table",
					"aggOverflow": false,
					"aggSeriesLimitReached": false,
					"arguments": {}
				}
			},
			"output_type": "display_data",
			"data": {
				"text/html": ["<style scoped>\n  .table-result-container {\n    max-height: 300px;\n    overflow: auto;\n  }\n  table, th, td {\n    border: 1px solid black;\n    border-collapse: collapse;\n  }\n  th, td {\n    padding: 5px;\n  }\n  th {\n    text-align: left;\n  }\n</style><div class='table-result-container'><table class='table-result'><thead style='background-color: white'><tr><th>databaseName</th></tr></thead><tbody><tr><td>country_club</td></tr><tr><td>default</td></tr></tbody></table></div>"]
			}
		}],
		"execution_count": 0
	}, {
		"cell_type": "markdown",
		"source": ["### Creating the Tables\n\nIn this section, we will be creating the three tables of interest and populate them with the data from the CSV files already available to you. \nTo get started, first upload the three CSV files to the DBFS as depicted in the following figure\n\n![](https://i.imgur.com/QcCruBr.png)\n\n\nOnce you have done this, please remember to execute the following code to build the dataframes which will be saved as tables in our database"],
		"metadata": {
			"application/vnd.databricks.v1+cell": {
				"title": "",
				"showTitle": false,
				"inputWidgets": {},
				"nuid": "c74c318c-2593-48ac-b611-25fd207eaa01"
			}
		}
	}, {
		"cell_type": "code",
		"source": ["# File location and type\nfile_location_bookings = \"/FileStore/tables/Bookings.csv\"\nfile_location_facilities = \"/FileStore/tables/Facilities.csv\"\nfile_location_members = \"/FileStore/tables/Members.csv\"\n\nfile_type = \"csv\"\n\n# CSV options\ninfer_schema = \"true\"\nfirst_row_is_header = \"true\"\ndelimiter = \",\"\n\n# The applied options are for CSV files. For other file types, these will be ignored.\nbookings_df = (spark.read.format(file_type) \n                    .option(\"inferSchema\", infer_schema) \n                    .option(\"header\", first_row_is_header) \n                    .option(\"sep\", delimiter) \n                    .load(file_location_bookings))\n\nfacilities_df = (spark.read.format(file_type) \n                      .option(\"inferSchema\", infer_schema) \n                      .option(\"header\", first_row_is_header) \n                      .option(\"sep\", delimiter) \n                      .load(file_location_facilities))\n\nmembers_df = (spark.read.format(file_type) \n                      .option(\"inferSchema\", infer_schema) \n                      .option(\"header\", first_row_is_header) \n                      .option(\"sep\", delimiter) \n                      .load(file_location_members))"],
		"metadata": {
			"application/vnd.databricks.v1+cell": {
				"title": "",
				"showTitle": false,
				"inputWidgets": {},
				"nuid": "c669d946-56c5-41ca-9365-83182340d27a"
			}
		},
		"outputs": [{
			"output_type": "display_data",
			"metadata": {
				"application/vnd.databricks.v1+output": {
					"datasetInfos": [],
					"data": "<div class=\"ansiout\"></div>",
					"removedWidgets": [],
					"addedWidgets": {},
					"metadata": {},
					"type": "html",
					"arguments": {}
				}
			},
			"output_type": "display_data",
			"data": {
				"text/html": ["<style scoped>\n  .ansiout {\n    display: block;\n    unicode-bidi: embed;\n    white-space: pre-wrap;\n    word-wrap: break-word;\n    word-break: break-all;\n    font-family: \"Source Code Pro\", \"Menlo\", monospace;;\n    font-size: 13px;\n    color: #555;\n    margin-left: 4px;\n    line-height: 19px;\n  }\n</style>\n<div class=\"ansiout\"></div>"]
			}
		}],
		"execution_count": 0
	}, {
		"cell_type": "markdown",
		"source": ["### Viewing the dataframe schemas\n\nWe can take a look at the schemas of our potential tables to be written to our database soon"],
		"metadata": {
			"application/vnd.databricks.v1+cell": {
				"title": "",
				"showTitle": false,
				"inputWidgets": {},
				"nuid": "f3ca7ceb-f10a-48e8-a0e5-6d9039563c76"
			}
		}
	}, {
		"cell_type": "code",
		"source": ["print('Bookings Schema')\nbookings_df.printSchema()\nprint('Facilities Schema')\nfacilities_df.printSchema()\nprint('Members Schema')\nmembers_df.printSchema()"],
		"metadata": {
			"application/vnd.databricks.v1+cell": {
				"title": "",
				"showTitle": false,
				"inputWidgets": {},
				"nuid": "a608466b-dd2f-471e-b221-79ef4d2d1ece"
			}
		},
		"outputs": [{
			"output_type": "display_data",
			"metadata": {
				"application/vnd.databricks.v1+output": {
					"datasetInfos": [],
					"data": "<div class=\"ansiout\">Bookings Schema\nroot\n |-- bookid: integer (nullable = true)\n |-- facid: integer (nullable = true)\n |-- memid: integer (nullable = true)\n |-- starttime: string (nullable = true)\n |-- slots: integer (nullable = true)\n\nFacilities Schema\nroot\n |-- facid: integer (nullable = true)\n |-- name: string (nullable = true)\n |-- membercost: double (nullable = true)\n |-- guestcost: double (nullable = true)\n |-- initialoutlay: integer (nullable = true)\n |-- monthlymaintenance: integer (nullable = true)\n\nMembers Schema\nroot\n |-- memid: integer (nullable = true)\n |-- surname: string (nullable = true)\n |-- firstname: string (nullable = true)\n |-- address: string (nullable = true)\n |-- zipcode: integer (nullable = true)\n |-- telephone: string (nullable = true)\n |-- recommendedby: integer (nullable = true)\n |-- joindate: string (nullable = true)\n\n</div>",
					"removedWidgets": [],
					"addedWidgets": {},
					"metadata": {},
					"type": "html",
					"arguments": {}
				}
			},
			"output_type": "display_data",
			"data": {
				"text/html": ["<style scoped>\n  .ansiout {\n    display: block;\n    unicode-bidi: embed;\n    white-space: pre-wrap;\n    word-wrap: break-word;\n    word-break: break-all;\n    font-family: \"Source Code Pro\", \"Menlo\", monospace;;\n    font-size: 13px;\n    color: #555;\n    margin-left: 4px;\n    line-height: 19px;\n  }\n</style>\n<div class=\"ansiout\">Bookings Schema\nroot\n-- bookid: integer (nullable = true)\n-- facid: integer (nullable = true)\n-- memid: integer (nullable = true)\n-- starttime: string (nullable = true)\n-- slots: integer (nullable = true)\n\nFacilities Schema\nroot\n-- facid: integer (nullable = true)\n-- name: string (nullable = true)\n-- membercost: double (nullable = true)\n-- guestcost: double (nullable = true)\n-- initialoutlay: integer (nullable = true)\n-- monthlymaintenance: integer (nullable = true)\n\nMembers Schema\nroot\n-- memid: integer (nullable = true)\n-- surname: string (nullable = true)\n-- firstname: string (nullable = true)\n-- address: string (nullable = true)\n-- zipcode: integer (nullable = true)\n-- telephone: string (nullable = true)\n-- recommendedby: integer (nullable = true)\n-- joindate: string (nullable = true)\n\n</div>"]
			}
		}],
		"execution_count": 0
	}, {
		"cell_type": "markdown",
		"source": ["### Create permanent tables\nWe will be creating three permanent tables here in our __`country_club`__ database as we discussed previously with the following code"],
		"metadata": {
			"application/vnd.databricks.v1+cell": {
				"title": "",
				"showTitle": false,
				"inputWidgets": {},
				"nuid": "93ec99af-ee18-426d-bfd4-779c266769bb"
			}
		}
	}, {
		"cell_type": "code",
		"source": ["permanent_table_name_bookings = \"country_club.Bookings\"\nbookings_df.write.mode('overwrite').format(\"parquet\").saveAsTable(permanent_table_name_bookings)\n\npermanent_table_name_facilities = \"country_club.Facilities\"\nfacilities_df.write.mode('overwrite').format(\"parquet\").saveAsTable(permanent_table_name_facilities)\n\npermanent_table_name_members = \"country_club.Members\"\nmembers_df.write.mode('overwrite').format(\"parquet\").saveAsTable(permanent_table_name_members)"],
		"metadata": {
			"application/vnd.databricks.v1+cell": {
				"title": "",
				"showTitle": false,
				"inputWidgets": {},
				"nuid": "4ca3c48a-cc8b-4215-a963-2c7a55bb8273"
			}
		},
		"outputs": [{
			"output_type": "display_data",
			"metadata": {
				"application/vnd.databricks.v1+output": {
					"datasetInfos": [],
					"data": "<div class=\"ansiout\"></div>",
					"removedWidgets": [],
					"addedWidgets": {},
					"metadata": {},
					"type": "html",
					"arguments": {}
				}
			},
			"output_type": "display_data",
			"data": {
				"text/html": ["<style scoped>\n  .ansiout {\n    display: block;\n    unicode-bidi: embed;\n    white-space: pre-wrap;\n    word-wrap: break-word;\n    word-break: break-all;\n    font-family: \"Source Code Pro\", \"Menlo\", monospace;;\n    font-size: 13px;\n    color: #555;\n    margin-left: 4px;\n    line-height: 19px;\n  }\n</style>\n<div class=\"ansiout\"></div>"]
			}
		}],
		"execution_count": 0
	}, {
		"cell_type": "markdown",
		"source": ["### Refresh tables and check them"],
		"metadata": {
			"application/vnd.databricks.v1+cell": {
				"title": "",
				"showTitle": false,
				"inputWidgets": {},
				"nuid": "0c220742-ec71-45e2-ad6f-d9f02ace542d"
			}
		}
	}, {
		"cell_type": "code",
		"source": ["%sql\nuse country_club;\nREFRESH table bookings;\nREFRESH table facilities;\nREFRESH table members;\nshow tables;"],
		"metadata": {
			"application/vnd.databricks.v1+cell": {
				"title": "",
				"showTitle": false,
				"inputWidgets": {},
				"nuid": "d81113ad-c647-4a9c-b310-af300d9a7036"
			}
		},
		"outputs": [{
			"output_type": "display_data",
			"metadata": {
				"application/vnd.databricks.v1+output": {
					"overflow": false,
					"datasetInfos": [],
					"data": [
						["country_club", "bookings", false],
						["country_club", "facilities", false],
						["country_club", "members", false]
					],
					"plotOptions": {
						"displayType": "table",
						"customPlotOptions": {},
						"pivotColumns": [],
						"pivotAggregation": null,
						"xColumns": [],
						"yColumns": []
					},
					"columnCustomDisplayInfos": {},
					"aggType": "",
					"isJsonSchema": true,
					"removedWidgets": [],
					"aggSchema": [],
					"schema": [{
						"name": "database",
						"type": "\"string\"",
						"metadata": "{}"
					}, {
						"name": "tableName",
						"type": "\"string\"",
						"metadata": "{}"
					}, {
						"name": "isTemporary",
						"type": "\"boolean\"",
						"metadata": "{}"
					}],
					"aggError": "",
					"aggData": [],
					"addedWidgets": {},
					"metadata": {},
					"dbfsResultPath": null,
					"type": "table",
					"aggOverflow": false,
					"aggSeriesLimitReached": false,
					"arguments": {}
				}
			},
			"output_type": "display_data",
			"data": {
				"text/html": ["<style scoped>\n  .table-result-container {\n    max-height: 300px;\n    overflow: auto;\n  }\n  table, th, td {\n    border: 1px solid black;\n    border-collapse: collapse;\n  }\n  th, td {\n    padding: 5px;\n  }\n  th {\n    text-align: left;\n  }\n</style><div class='table-result-container'><table class='table-result'><thead style='background-color: white'><tr><th>database</th><th>tableName</th><th>isTemporary</th></tr></thead><tbody><tr><td>country_club</td><td>bookings</td><td>false</td></tr><tr><td>country_club</td><td>facilities</td><td>false</td></tr><tr><td>country_club</td><td>members</td><td>false</td></tr></tbody></table></div>"]
			}
		}],
		"execution_count": 0
	}, {
		"cell_type": "markdown",
		"source": ["### Test a sample SQL query\n\n__Note:__ You can use __`%sql`__ at the beginning of a cell and write SQL queries directly as seen in the following cell. Neat isn't it!"],
		"metadata": {
			"application/vnd.databricks.v1+cell": {
				"title": "",
				"showTitle": false,
				"inputWidgets": {},
				"nuid": "16e4da1b-8609-403b-8bc3-5dcc63a1c10b"
			}
		}
	}, {
		"cell_type": "code",
		"source": ["%sql\nselect * from bookings limit 3"],
		"metadata": {
			"application/vnd.databricks.v1+cell": {
				"title": "",
				"showTitle": false,
				"inputWidgets": {},
				"nuid": "7a6a3736-173d-40f5-91f6-2a8d2cbee119"
			}
		},
		"outputs": [{
			"output_type": "display_data",
			"metadata": {
				"application/vnd.databricks.v1+output": {
					"overflow": false,
					"datasetInfos": [],
					"data": [
						[0, 3, 1, "2012-07-03 11:00:00", 2],
						[1, 4, 1, "2012-07-03 08:00:00", 2],
						[2, 6, 0, "2012-07-03 18:00:00", 2]
					],
					"plotOptions": {
						"displayType": "table",
						"customPlotOptions": {},
						"pivotColumns": [],
						"pivotAggregation": null,
						"xColumns": [],
						"yColumns": []
					},
					"columnCustomDisplayInfos": {},
					"aggType": "",
					"isJsonSchema": true,
					"removedWidgets": [],
					"aggSchema": [],
					"schema": [{
						"name": "bookid",
						"type": "\"integer\"",
						"metadata": "{}"
					}, {
						"name": "facid",
						"type": "\"integer\"",
						"metadata": "{}"
					}, {
						"name": "memid",
						"type": "\"integer\"",
						"metadata": "{}"
					}, {
						"name": "starttime",
						"type": "\"string\"",
						"metadata": "{}"
					}, {
						"name": "slots",
						"type": "\"integer\"",
						"metadata": "{}"
					}],
					"aggError": "",
					"aggData": [],
					"addedWidgets": {},
					"metadata": {},
					"dbfsResultPath": null,
					"type": "table",
					"aggOverflow": false,
					"aggSeriesLimitReached": false,
					"arguments": {}
				}
			},
			"output_type": "display_data",
			"data": {
				"text/html": ["<style scoped>\n  .table-result-container {\n    max-height: 300px;\n    overflow: auto;\n  }\n  table, th, td {\n    border: 1px solid black;\n    border-collapse: collapse;\n  }\n  th, td {\n    padding: 5px;\n  }\n  th {\n    text-align: left;\n  }\n</style><div class='table-result-container'><table class='table-result'><thead style='background-color: white'><tr><th>bookid</th><th>facid</th><th>memid</th><th>starttime</th><th>slots</th></tr></thead><tbody><tr><td>0</td><td>3</td><td>1</td><td>2012-07-03 11:00:00</td><td>2</td></tr><tr><td>1</td><td>4</td><td>1</td><td>2012-07-03 08:00:00</td><td>2</td></tr><tr><td>2</td><td>6</td><td>0</td><td>2012-07-03 18:00:00</td><td>2</td></tr></tbody></table></div>"]
			}
		}],
		"execution_count": 0
	}, {
		"cell_type": "markdown",
		"source": ["#### Q1: Some of the facilities charge a fee to members, but some do not. Please list the names of the facilities that do."],
		"metadata": {
			"application/vnd.databricks.v1+cell": {
				"title": "",
				"showTitle": false,
				"inputWidgets": {},
				"nuid": "07e5c8dc-eed9-4e5d-82fc-4950307b41bc"
			}
		}
	}, {
		"cell_type": "code",
		"source": ["%sql\nSELECT name FROM facilities WHERE membercost > 0;"],
		"metadata": {
			"application/vnd.databricks.v1+cell": {
				"title": "",
				"showTitle": false,
				"inputWidgets": {},
				"nuid": "c6cda4a0-f99c-46a4-b891-b7a3ee43e423"
			}
		},
		"outputs": [{
			"output_type": "display_data",
			"metadata": {
				"application/vnd.databricks.v1+output": {
					"overflow": false,
					"datasetInfos": [],
					"data": [
						["Tennis Court 1"],
						["Tennis Court 2"],
						["Massage Room 1"],
						["Massage Room 2"],
						["Squash Court"]
					],
					"plotOptions": {
						"displayType": "table",
						"customPlotOptions": {},
						"pivotColumns": [],
						"pivotAggregation": null,
						"xColumns": [],
						"yColumns": []
					},
					"columnCustomDisplayInfos": {},
					"aggType": "",
					"isJsonSchema": true,
					"removedWidgets": [],
					"aggSchema": [],
					"schema": [{
						"name": "name",
						"type": "\"string\"",
						"metadata": "{}"
					}],
					"aggError": "",
					"aggData": [],
					"addedWidgets": {},
					"metadata": {},
					"dbfsResultPath": null,
					"type": "table",
					"aggOverflow": false,
					"aggSeriesLimitReached": false,
					"arguments": {}
				}
			},
			"output_type": "display_data",
			"data": {
				"text/html": ["<style scoped>\n  .table-result-container {\n    max-height: 300px;\n    overflow: auto;\n  }\n  table, th, td {\n    border: 1px solid black;\n    border-collapse: collapse;\n  }\n  th, td {\n    padding: 5px;\n  }\n  th {\n    text-align: left;\n  }\n</style><div class='table-result-container'><table class='table-result'><thead style='background-color: white'><tr><th>name</th></tr></thead><tbody><tr><td>Tennis Court 1</td></tr><tr><td>Tennis Court 2</td></tr><tr><td>Massage Room 1</td></tr><tr><td>Massage Room 2</td></tr><tr><td>Squash Court</td></tr></tbody></table></div>"]
			}
		}],
		"execution_count": 0
	}, {
		"cell_type": "markdown",
		"source": ["####  Q2: How many facilities do not charge a fee to members?"],
		"metadata": {
			"application/vnd.databricks.v1+cell": {
				"title": "",
				"showTitle": false,
				"inputWidgets": {},
				"nuid": "1625df02-2ccf-4a97-8e16-47e53e184a0f"
			}
		}
	}, {
		"cell_type": "code",
		"source": ["%sql\nSELECT COUNT(*) FROM facilities WHERE membercost == 0;"],
		"metadata": {
			"application/vnd.databricks.v1+cell": {
				"title": "",
				"showTitle": false,
				"inputWidgets": {},
				"nuid": "59e51912-c748-4a25-9145-381a5b62050d"
			}
		},
		"outputs": [{
			"output_type": "display_data",
			"metadata": {
				"application/vnd.databricks.v1+output": {
					"overflow": false,
					"datasetInfos": [],
					"data": [
						[4]
					],
					"plotOptions": {
						"displayType": "table",
						"customPlotOptions": {},
						"pivotColumns": [],
						"pivotAggregation": null,
						"xColumns": [],
						"yColumns": []
					},
					"columnCustomDisplayInfos": {},
					"aggType": "",
					"isJsonSchema": true,
					"removedWidgets": [],
					"aggSchema": [],
					"schema": [{
						"name": "count(1)",
						"type": "\"long\"",
						"metadata": "{}"
					}],
					"aggError": "",
					"aggData": [],
					"addedWidgets": {},
					"metadata": {},
					"dbfsResultPath": null,
					"type": "table",
					"aggOverflow": false,
					"aggSeriesLimitReached": false,
					"arguments": {}
				}
			},
			"output_type": "display_data",
			"data": {
				"text/html": ["<style scoped>\n  .table-result-container {\n    max-height: 300px;\n    overflow: auto;\n  }\n  table, th, td {\n    border: 1px solid black;\n    border-collapse: collapse;\n  }\n  th, td {\n    padding: 5px;\n  }\n  th {\n    text-align: left;\n  }\n</style><div class='table-result-container'><table class='table-result'><thead style='background-color: white'><tr><th>count(1)</th></tr></thead><tbody><tr><td>4</td></tr></tbody></table></div>"]
			}
		}],
		"execution_count": 0
	}, {
		"cell_type": "markdown",
		"source": ["#### Q3: How can you produce a list of facilities that charge a fee to members, where the fee is less than 20% of the facility's monthly maintenance cost? \n#### Return the facid, facility name, member cost, and monthly maintenance of the facilities in question."],
		"metadata": {
			"application/vnd.databricks.v1+cell": {
				"title": "",
				"showTitle": false,
				"inputWidgets": {},
				"nuid": "f45de50e-263e-4dcb-8f7a-aa3d2faf84d6"
			}
		}
	}, {
		"cell_type": "code",
		"source": ["%sql\nSELECT facid, name, membercost, monthlymaintenance FROM facilities WHERE membercost > 0 AND membercost < 0.2 * monthlymaintenance"],
		"metadata": {
			"application/vnd.databricks.v1+cell": {
				"title": "",
				"showTitle": false,
				"inputWidgets": {},
				"nuid": "a71e434f-dfec-47cc-9d92-fd7899b6f87b"
			}
		},
		"outputs": [{
			"output_type": "display_data",
			"metadata": {
				"application/vnd.databricks.v1+output": {
					"overflow": false,
					"datasetInfos": [],
					"data": [
						[0, "Tennis Court 1", 5.0, 200],
						[1, "Tennis Court 2", 5.0, 200],
						[4, "Massage Room 1", 9.9, 3000],
						[5, "Massage Room 2", 9.9, 3000],
						[6, "Squash Court", 3.5, 80]
					],
					"plotOptions": {
						"displayType": "table",
						"customPlotOptions": {},
						"pivotColumns": [],
						"pivotAggregation": null,
						"xColumns": [],
						"yColumns": []
					},
					"columnCustomDisplayInfos": {},
					"aggType": "",
					"isJsonSchema": true,
					"removedWidgets": [],
					"aggSchema": [],
					"schema": [{
						"name": "facid",
						"type": "\"integer\"",
						"metadata": "{}"
					}, {
						"name": "name",
						"type": "\"string\"",
						"metadata": "{}"
					}, {
						"name": "membercost",
						"type": "\"double\"",
						"metadata": "{}"
					}, {
						"name": "monthlymaintenance",
						"type": "\"integer\"",
						"metadata": "{}"
					}],
					"aggError": "",
					"aggData": [],
					"addedWidgets": {},
					"metadata": {},
					"dbfsResultPath": null,
					"type": "table",
					"aggOverflow": false,
					"aggSeriesLimitReached": false,
					"arguments": {}
				}
			},
			"output_type": "display_data",
			"data": {
				"text/html": ["<style scoped>\n  .table-result-container {\n    max-height: 300px;\n    overflow: auto;\n  }\n  table, th, td {\n    border: 1px solid black;\n    border-collapse: collapse;\n  }\n  th, td {\n    padding: 5px;\n  }\n  th {\n    text-align: left;\n  }\n</style><div class='table-result-container'><table class='table-result'><thead style='background-color: white'><tr><th>facid</th><th>name</th><th>membercost</th><th>monthlymaintenance</th></tr></thead><tbody><tr><td>0</td><td>Tennis Court 1</td><td>5.0</td><td>200</td></tr><tr><td>1</td><td>Tennis Court 2</td><td>5.0</td><td>200</td></tr><tr><td>4</td><td>Massage Room 1</td><td>9.9</td><td>3000</td></tr><tr><td>5</td><td>Massage Room 2</td><td>9.9</td><td>3000</td></tr><tr><td>6</td><td>Squash Court</td><td>3.5</td><td>80</td></tr></tbody></table></div>"]
			}
		}],
		"execution_count": 0
	}, {
		"cell_type": "markdown",
		"source": ["#### Q4: How can you retrieve the details of facilities with ID 1 and 5? Write the query without using the OR operator."],
		"metadata": {
			"application/vnd.databricks.v1+cell": {
				"title": "",
				"showTitle": false,
				"inputWidgets": {},
				"nuid": "824cef11-a35b-4861-aae0-5387e56e5f0c"
			}
		}
	}, {
		"cell_type": "code",
		"source": ["%sql\nSELECT * FROM facilities WHERE facid IN (1, 5);"],
		"metadata": {
			"application/vnd.databricks.v1+cell": {
				"title": "",
				"showTitle": false,
				"inputWidgets": {},
				"nuid": "4585adb7-1eff-4578-9598-1e2965aec7aa"
			}
		},
		"outputs": [{
			"output_type": "display_data",
			"metadata": {
				"application/vnd.databricks.v1+output": {
					"overflow": false,
					"datasetInfos": [],
					"data": [
						[1, "Tennis Court 2", 5.0, 25.0, 8000, 200],
						[5, "Massage Room 2", 9.9, 80.0, 4000, 3000]
					],
					"plotOptions": {
						"displayType": "table",
						"customPlotOptions": {},
						"pivotColumns": [],
						"pivotAggregation": null,
						"xColumns": [],
						"yColumns": []
					},
					"columnCustomDisplayInfos": {},
					"aggType": "",
					"isJsonSchema": true,
					"removedWidgets": [],
					"aggSchema": [],
					"schema": [{
						"name": "facid",
						"type": "\"integer\"",
						"metadata": "{}"
					}, {
						"name": "name",
						"type": "\"string\"",
						"metadata": "{}"
					}, {
						"name": "membercost",
						"type": "\"double\"",
						"metadata": "{}"
					}, {
						"name": "guestcost",
						"type": "\"double\"",
						"metadata": "{}"
					}, {
						"name": "initialoutlay",
						"type": "\"integer\"",
						"metadata": "{}"
					}, {
						"name": "monthlymaintenance",
						"type": "\"integer\"",
						"metadata": "{}"
					}],
					"aggError": "",
					"aggData": [],
					"addedWidgets": {},
					"metadata": {},
					"dbfsResultPath": null,
					"type": "table",
					"aggOverflow": false,
					"aggSeriesLimitReached": false,
					"arguments": {}
				}
			},
			"output_type": "display_data",
			"data": {
				"text/html": ["<style scoped>\n  .table-result-container {\n    max-height: 300px;\n    overflow: auto;\n  }\n  table, th, td {\n    border: 1px solid black;\n    border-collapse: collapse;\n  }\n  th, td {\n    padding: 5px;\n  }\n  th {\n    text-align: left;\n  }\n</style><div class='table-result-container'><table class='table-result'><thead style='background-color: white'><tr><th>facid</th><th>name</th><th>membercost</th><th>guestcost</th><th>initialoutlay</th><th>monthlymaintenance</th></tr></thead><tbody><tr><td>1</td><td>Tennis Court 2</td><td>5.0</td><td>25.0</td><td>8000</td><td>200</td></tr><tr><td>5</td><td>Massage Room 2</td><td>9.9</td><td>80.0</td><td>4000</td><td>3000</td></tr></tbody></table></div>"]
			}
		}],
		"execution_count": 0
	}, {
		"cell_type": "markdown",
		"source": ["#### Q5: How can you produce a list of facilities, with each labelled as 'cheap' or 'expensive', depending on if their monthly maintenance cost is more than $100? \n#### Return the name and monthly maintenance of the facilities in question."],
		"metadata": {
			"application/vnd.databricks.v1+cell": {
				"title": "",
				"showTitle": false,
				"inputWidgets": {},
				"nuid": "39b16cce-7181-43a3-94b2-bc8e5daf27ba"
			}
		}
	}, {
		"cell_type": "code",
		"source": ["%sql\nSELECT name, (CASE WHEN monthlymaintenance > 100 THEN 'expensive' ELSE 'cheap' END) AS monthly_maintenance FROM facilities\n"],
		"metadata": {
			"application/vnd.databricks.v1+cell": {
				"title": "",
				"showTitle": false,
				"inputWidgets": {},
				"nuid": "3259a002-39a3-4fb5-8ac7-9d52ff745e56"
			}
		},
		"outputs": [{
			"output_type": "display_data",
			"metadata": {
				"application/vnd.databricks.v1+output": {
					"overflow": false,
					"datasetInfos": [],
					"data": [
						["Tennis Court 1", "expensive"],
						["Tennis Court 2", "expensive"],
						["Badminton Court", "cheap"],
						["Table Tennis", "cheap"],
						["Massage Room 1", "expensive"],
						["Massage Room 2", "expensive"],
						["Squash Court", "cheap"],
						["Snooker Table", "cheap"],
						["Pool Table", "cheap"]
					],
					"plotOptions": {
						"displayType": "table",
						"customPlotOptions": {},
						"pivotColumns": [],
						"pivotAggregation": null,
						"xColumns": [],
						"yColumns": []
					},
					"columnCustomDisplayInfos": {},
					"aggType": "",
					"isJsonSchema": true,
					"removedWidgets": [],
					"aggSchema": [],
					"schema": [{
						"name": "name",
						"type": "\"string\"",
						"metadata": "{}"
					}, {
						"name": "monthly_maintenance",
						"type": "\"string\"",
						"metadata": "{}"
					}],
					"aggError": "",
					"aggData": [],
					"addedWidgets": {},
					"metadata": {},
					"dbfsResultPath": null,
					"type": "table",
					"aggOverflow": false,
					"aggSeriesLimitReached": false,
					"arguments": {}
				}
			},
			"output_type": "display_data",
			"data": {
				"text/html": ["<style scoped>\n  .table-result-container {\n    max-height: 300px;\n    overflow: auto;\n  }\n  table, th, td {\n    border: 1px solid black;\n    border-collapse: collapse;\n  }\n  th, td {\n    padding: 5px;\n  }\n  th {\n    text-align: left;\n  }\n</style><div class='table-result-container'><table class='table-result'><thead style='background-color: white'><tr><th>name</th><th>monthly_maintenance</th></tr></thead><tbody><tr><td>Tennis Court 1</td><td>expensive</td></tr><tr><td>Tennis Court 2</td><td>expensive</td></tr><tr><td>Badminton Court</td><td>cheap</td></tr><tr><td>Table Tennis</td><td>cheap</td></tr><tr><td>Massage Room 1</td><td>expensive</td></tr><tr><td>Massage Room 2</td><td>expensive</td></tr><tr><td>Squash Court</td><td>cheap</td></tr><tr><td>Snooker Table</td><td>cheap</td></tr><tr><td>Pool Table</td><td>cheap</td></tr></tbody></table></div>"]
			}
		}],
		"execution_count": 0
	}, {
		"cell_type": "markdown",
		"source": ["#### Q6: You'd like to get the first and last name of the last member(s) who signed up. Do not use the LIMIT clause for your solution."],
		"metadata": {
			"application/vnd.databricks.v1+cell": {
				"title": "",
				"showTitle": false,
				"inputWidgets": {},
				"nuid": "d6d8c419-ca22-47ff-bd8f-99fca3dacbc3"
			}
		}
	}, {
		"cell_type": "code",
		"source": ["%sql\nSELECT * FROM members JOIN (SELECT MAX(joindate) AS joindate FROM members) lastMember ON members.joindate = lastMember.joindate;"],
		"metadata": {
			"application/vnd.databricks.v1+cell": {
				"title": "",
				"showTitle": false,
				"inputWidgets": {},
				"nuid": "6c641ff5-e660-49b1-b815-a1b702f4db1a"
			}
		},
		"outputs": [{
			"output_type": "display_data",
			"metadata": {
				"application/vnd.databricks.v1+output": {
					"overflow": false,
					"datasetInfos": [],
					"data": [
						[37, "Smith", "Darren", "3 Funktown, Denzington, Boston", 66796, "(822) 577-3541", null, "2012-09-26 18:08:45", "2012-09-26 18:08:45"]
					],
					"plotOptions": {
						"displayType": "table",
						"customPlotOptions": {},
						"pivotColumns": [],
						"pivotAggregation": null,
						"xColumns": [],
						"yColumns": []
					},
					"columnCustomDisplayInfos": {},
					"aggType": "",
					"isJsonSchema": true,
					"removedWidgets": [],
					"aggSchema": [],
					"schema": [{
						"name": "memid",
						"type": "\"integer\"",
						"metadata": "{}"
					}, {
						"name": "surname",
						"type": "\"string\"",
						"metadata": "{}"
					}, {
						"name": "firstname",
						"type": "\"string\"",
						"metadata": "{}"
					}, {
						"name": "address",
						"type": "\"string\"",
						"metadata": "{}"
					}, {
						"name": "zipcode",
						"type": "\"integer\"",
						"metadata": "{}"
					}, {
						"name": "telephone",
						"type": "\"string\"",
						"metadata": "{}"
					}, {
						"name": "recommendedby",
						"type": "\"integer\"",
						"metadata": "{}"
					}, {
						"name": "joindate",
						"type": "\"string\"",
						"metadata": "{}"
					}, {
						"name": "joindate",
						"type": "\"string\"",
						"metadata": "{}"
					}],
					"aggError": "",
					"aggData": [],
					"addedWidgets": {},
					"metadata": {},
					"dbfsResultPath": null,
					"type": "table",
					"aggOverflow": false,
					"aggSeriesLimitReached": false,
					"arguments": {}
				}
			},
			"output_type": "display_data",
			"data": {
				"text/html": ["<style scoped>\n  .table-result-container {\n    max-height: 300px;\n    overflow: auto;\n  }\n  table, th, td {\n    border: 1px solid black;\n    border-collapse: collapse;\n  }\n  th, td {\n    padding: 5px;\n  }\n  th {\n    text-align: left;\n  }\n</style><div class='table-result-container'><table class='table-result'><thead style='background-color: white'><tr><th>memid</th><th>surname</th><th>firstname</th><th>address</th><th>zipcode</th><th>telephone</th><th>recommendedby</th><th>joindate</th><th>joindate</th></tr></thead><tbody><tr><td>37</td><td>Smith</td><td>Darren</td><td>3 Funktown, Denzington, Boston</td><td>66796</td><td>(822) 577-3541</td><td>null</td><td>2012-09-26 18:08:45</td><td>2012-09-26 18:08:45</td></tr></tbody></table></div>"]
			}
		}],
		"execution_count": 0
	}, {
		"cell_type": "markdown",
		"source": ["####  Q7: How can you produce a list of all members who have used a tennis court?\n- Include in your output the name of the court, and the name of the member formatted as a single column. \n- Ensure no duplicate data\n- Also order by the member name."],
		"metadata": {
			"application/vnd.databricks.v1+cell": {
				"title": "",
				"showTitle": false,
				"inputWidgets": {},
				"nuid": "00e9bee3-6cb6-437b-9b04-852ca0ee4034"
			}
		}
	}, {
		"cell_type": "code",
		"source": ["%sql\n\nSELECT facName, CONCAT(surname, \" \", firstname) AS fullName \nFROM members JOIN (\n  SELECT DISTINCT(bookings.memid), facilities.name AS facName\n  FROM bookings \n  JOIN facilities \n  ON bookings.facid = facilities.facid \n  WHERE bookings.facid IN (0, 1)\n) tmp \nON members.memid = tmp.memid\nORDER BY fullName;"],
		"metadata": {
			"application/vnd.databricks.v1+cell": {
				"title": "",
				"showTitle": false,
				"inputWidgets": {},
				"nuid": "8323955d-7762-441d-ade9-f2f0d15edc98"
			}
		},
		"outputs": [{
			"output_type": "display_data",
			"metadata": {
				"application/vnd.databricks.v1+output": {
					"overflow": false,
					"datasetInfos": [],
					"data": [
						["Tennis Court 1", "Bader Florence"],
						["Tennis Court 2", "Bader Florence"],
						["Tennis Court 1", "Baker Anne"],
						["Tennis Court 2", "Baker Anne"],
						["Tennis Court 2", "Baker Timothy"],
						["Tennis Court 1", "Baker Timothy"],
						["Tennis Court 1", "Boothe Tim"],
						["Tennis Court 2", "Boothe Tim"],
						["Tennis Court 2", "Butters Gerald"],
						["Tennis Court 1", "Butters Gerald"],
						["Tennis Court 1", "Coplin Joan"],
						["Tennis Court 1", "Crumpet Erica"],
						["Tennis Court 1", "Dare Nancy"],
						["Tennis Court 2", "Dare Nancy"],
						["Tennis Court 1", "Farrell David"],
						["Tennis Court 2", "Farrell David"],
						["Tennis Court 2", "Farrell Jemima"],
						["Tennis Court 1", "Farrell Jemima"],
						["Tennis Court 2", "GUEST GUEST"],
						["Tennis Court 1", "GUEST GUEST"],
						["Tennis Court 1", "Genting Matthew"],
						["Tennis Court 1", "Hunt John"],
						["Tennis Court 2", "Hunt John"],
						["Tennis Court 2", "Jones David"],
						["Tennis Court 1", "Jones David"],
						["Tennis Court 1", "Jones Douglas"],
						["Tennis Court 2", "Joplette Janice"],
						["Tennis Court 1", "Joplette Janice"],
						["Tennis Court 1", "Owen Charles"],
						["Tennis Court 2", "Owen Charles"],
						["Tennis Court 1", "Pinker David"],
						["Tennis Court 2", "Purview Millicent"],
						["Tennis Court 2", "Rownam Tim"],
						["Tennis Court 1", "Rownam Tim"],
						["Tennis Court 2", "Rumney Henrietta"],
						["Tennis Court 2", "Sarwin Ramnaresh"],
						["Tennis Court 1", "Sarwin Ramnaresh"],
						["Tennis Court 2", "Smith Darren"],
						["Tennis Court 1", "Smith Jack"],
						["Tennis Court 2", "Smith Jack"],
						["Tennis Court 2", "Smith Tracy"],
						["Tennis Court 1", "Smith Tracy"],
						["Tennis Court 1", "Stibbons Ponder"],
						["Tennis Court 2", "Stibbons Ponder"],
						["Tennis Court 2", "Tracy Burton"],
						["Tennis Court 1", "Tracy Burton"]
					],
					"plotOptions": {
						"displayType": "table",
						"customPlotOptions": {},
						"pivotColumns": [],
						"pivotAggregation": null,
						"xColumns": [],
						"yColumns": []
					},
					"columnCustomDisplayInfos": {},
					"aggType": "",
					"isJsonSchema": true,
					"removedWidgets": [],
					"aggSchema": [],
					"schema": [{
						"name": "facName",
						"type": "\"string\"",
						"metadata": "{}"
					}, {
						"name": "fullName",
						"type": "\"string\"",
						"metadata": "{}"
					}],
					"aggError": "",
					"aggData": [],
					"addedWidgets": {},
					"metadata": {},
					"dbfsResultPath": null,
					"type": "table",
					"aggOverflow": false,
					"aggSeriesLimitReached": false,
					"arguments": {}
				}
			},
			"output_type": "display_data",
			"data": {
				"text/html": ["<style scoped>\n  .table-result-container {\n    max-height: 300px;\n    overflow: auto;\n  }\n  table, th, td {\n    border: 1px solid black;\n    border-collapse: collapse;\n  }\n  th, td {\n    padding: 5px;\n  }\n  th {\n    text-align: left;\n  }\n</style><div class='table-result-container'><table class='table-result'><thead style='background-color: white'><tr><th>facName</th><th>fullName</th></tr></thead><tbody><tr><td>Tennis Court 1</td><td>Bader Florence</td></tr><tr><td>Tennis Court 2</td><td>Bader Florence</td></tr><tr><td>Tennis Court 1</td><td>Baker Anne</td></tr><tr><td>Tennis Court 2</td><td>Baker Anne</td></tr><tr><td>Tennis Court 2</td><td>Baker Timothy</td></tr><tr><td>Tennis Court 1</td><td>Baker Timothy</td></tr><tr><td>Tennis Court 1</td><td>Boothe Tim</td></tr><tr><td>Tennis Court 2</td><td>Boothe Tim</td></tr><tr><td>Tennis Court 2</td><td>Butters Gerald</td></tr><tr><td>Tennis Court 1</td><td>Butters Gerald</td></tr><tr><td>Tennis Court 1</td><td>Coplin Joan</td></tr><tr><td>Tennis Court 1</td><td>Crumpet Erica</td></tr><tr><td>Tennis Court 1</td><td>Dare Nancy</td></tr><tr><td>Tennis Court 2</td><td>Dare Nancy</td></tr><tr><td>Tennis Court 1</td><td>Farrell David</td></tr><tr><td>Tennis Court 2</td><td>Farrell David</td></tr><tr><td>Tennis Court 2</td><td>Farrell Jemima</td></tr><tr><td>Tennis Court 1</td><td>Farrell Jemima</td></tr><tr><td>Tennis Court 2</td><td>GUEST GUEST</td></tr><tr><td>Tennis Court 1</td><td>GUEST GUEST</td></tr><tr><td>Tennis Court 1</td><td>Genting Matthew</td></tr><tr><td>Tennis Court 1</td><td>Hunt John</td></tr><tr><td>Tennis Court 2</td><td>Hunt John</td></tr><tr><td>Tennis Court 2</td><td>Jones David</td></tr><tr><td>Tennis Court 1</td><td>Jones David</td></tr><tr><td>Tennis Court 1</td><td>Jones Douglas</td></tr><tr><td>Tennis Court 2</td><td>Joplette Janice</td></tr><tr><td>Tennis Court 1</td><td>Joplette Janice</td></tr><tr><td>Tennis Court 1</td><td>Owen Charles</td></tr><tr><td>Tennis Court 2</td><td>Owen Charles</td></tr><tr><td>Tennis Court 1</td><td>Pinker David</td></tr><tr><td>Tennis Court 2</td><td>Purview Millicent</td></tr><tr><td>Tennis Court 2</td><td>Rownam Tim</td></tr><tr><td>Tennis Court 1</td><td>Rownam Tim</td></tr><tr><td>Tennis Court 2</td><td>Rumney Henrietta</td></tr><tr><td>Tennis Court 2</td><td>Sarwin Ramnaresh</td></tr><tr><td>Tennis Court 1</td><td>Sarwin Ramnaresh</td></tr><tr><td>Tennis Court 2</td><td>Smith Darren</td></tr><tr><td>Tennis Court 1</td><td>Smith Jack</td></tr><tr><td>Tennis Court 2</td><td>Smith Jack</td></tr><tr><td>Tennis Court 2</td><td>Smith Tracy</td></tr><tr><td>Tennis Court 1</td><td>Smith Tracy</td></tr><tr><td>Tennis Court 1</td><td>Stibbons Ponder</td></tr><tr><td>Tennis Court 2</td><td>Stibbons Ponder</td></tr><tr><td>Tennis Court 2</td><td>Tracy Burton</td></tr><tr><td>Tennis Court 1</td><td>Tracy Burton</td></tr></tbody></table></div>"]
			}
		}],
		"execution_count": 0
	}, {
		"cell_type": "markdown",
		"source": ["#### Q8: How can you produce a list of bookings on the day of 2012-09-14 which will cost the member (or guest) more than $30? \n\n- Remember that guests have different costs to members (the listed costs are per half-hour 'slot')\n- The guest user's ID is always 0. \n\n#### Include in your output the name of the facility, the name of the member formatted as a single column, and the cost.\n\n- Order by descending cost, and do not use any subqueries."],
		"metadata": {
			"application/vnd.databricks.v1+cell": {
				"title": "",
				"showTitle": false,
				"inputWidgets": {},
				"nuid": "09486830-d755-4180-ba6a-d33cd18dd727"
			}
		}
	}, {
		"cell_type": "code",
		"source": ["%sql\nSELECT \n  bookid, \n  starttime, \n  facilities.name AS facility_name, \n  CONCAT(members.firstname, \" \", members.surname) AS full_name, \n  CASE WHEN bookings.memid != 0 THEN slots * membercost ELSE slots * guestcost END AS cost\nFROM bookings \nJOIN facilities ON bookings.facid = facilities.facid \nJOIN members ON bookings.memid = members.memid\nWHERE DATE(starttime) = DATE('2012-09-14')\nAND (CASE WHEN bookings.memid != 0 THEN slots * membercost ELSE slots * guestcost END) > 30\nORDER BY cost DESC;"],
		"metadata": {
			"application/vnd.databricks.v1+cell": {
				"title": "",
				"showTitle": false,
				"inputWidgets": {},
				"nuid": "e94a9e17-65db-4e6d-8265-6c51ab7aa267"
			}
		},
		"outputs": [{
			"output_type": "display_data",
			"metadata": {
				"application/vnd.databricks.v1+output": {
					"overflow": false,
					"datasetInfos": [],
					"data": [
						[2946, "2012-09-14 11:00:00", "Massage Room 2", "GUEST GUEST", 320.0],
						[2937, "2012-09-14 09:00:00", "Massage Room 1", "GUEST GUEST", 160.0],
						[2942, "2012-09-14 16:00:00", "Massage Room 1", "GUEST GUEST", 160.0],
						[2940, "2012-09-14 13:00:00", "Massage Room 1", "GUEST GUEST", 160.0],
						[2926, "2012-09-14 17:00:00", "Tennis Court 2", "GUEST GUEST", 150.0],
						[2925, "2012-09-14 14:00:00", "Tennis Court 2", "GUEST GUEST", 75.0],
						[2922, "2012-09-14 19:00:00", "Tennis Court 1", "GUEST GUEST", 75.0],
						[2920, "2012-09-14 16:00:00", "Tennis Court 1", "GUEST GUEST", 75.0],
						[2948, "2012-09-14 09:30:00", "Squash Court", "GUEST GUEST", 70.0],
						[2941, "2012-09-14 14:00:00", "Massage Room 1", "Jemima Farrell", 39.6],
						[2949, "2012-09-14 12:30:00", "Squash Court", "GUEST GUEST", 35.0],
						[2951, "2012-09-14 15:00:00", "Squash Court", "GUEST GUEST", 35.0]
					],
					"plotOptions": {
						"displayType": "table",
						"customPlotOptions": {},
						"pivotColumns": [],
						"pivotAggregation": null,
						"xColumns": [],
						"yColumns": []
					},
					"columnCustomDisplayInfos": {},
					"aggType": "",
					"isJsonSchema": true,
					"removedWidgets": [],
					"aggSchema": [],
					"schema": [{
						"name": "bookid",
						"type": "\"integer\"",
						"metadata": "{}"
					}, {
						"name": "starttime",
						"type": "\"string\"",
						"metadata": "{}"
					}, {
						"name": "facility_name",
						"type": "\"string\"",
						"metadata": "{}"
					}, {
						"name": "full_name",
						"type": "\"string\"",
						"metadata": "{}"
					}, {
						"name": "cost",
						"type": "\"double\"",
						"metadata": "{}"
					}],
					"aggError": "",
					"aggData": [],
					"addedWidgets": {},
					"metadata": {},
					"dbfsResultPath": null,
					"type": "table",
					"aggOverflow": false,
					"aggSeriesLimitReached": false,
					"arguments": {}
				}
			},
			"output_type": "display_data",
			"data": {
				"text/html": ["<style scoped>\n  .table-result-container {\n    max-height: 300px;\n    overflow: auto;\n  }\n  table, th, td {\n    border: 1px solid black;\n    border-collapse: collapse;\n  }\n  th, td {\n    padding: 5px;\n  }\n  th {\n    text-align: left;\n  }\n</style><div class='table-result-container'><table class='table-result'><thead style='background-color: white'><tr><th>bookid</th><th>starttime</th><th>facility_name</th><th>full_name</th><th>cost</th></tr></thead><tbody><tr><td>2946</td><td>2012-09-14 11:00:00</td><td>Massage Room 2</td><td>GUEST GUEST</td><td>320.0</td></tr><tr><td>2937</td><td>2012-09-14 09:00:00</td><td>Massage Room 1</td><td>GUEST GUEST</td><td>160.0</td></tr><tr><td>2942</td><td>2012-09-14 16:00:00</td><td>Massage Room 1</td><td>GUEST GUEST</td><td>160.0</td></tr><tr><td>2940</td><td>2012-09-14 13:00:00</td><td>Massage Room 1</td><td>GUEST GUEST</td><td>160.0</td></tr><tr><td>2926</td><td>2012-09-14 17:00:00</td><td>Tennis Court 2</td><td>GUEST GUEST</td><td>150.0</td></tr><tr><td>2925</td><td>2012-09-14 14:00:00</td><td>Tennis Court 2</td><td>GUEST GUEST</td><td>75.0</td></tr><tr><td>2922</td><td>2012-09-14 19:00:00</td><td>Tennis Court 1</td><td>GUEST GUEST</td><td>75.0</td></tr><tr><td>2920</td><td>2012-09-14 16:00:00</td><td>Tennis Court 1</td><td>GUEST GUEST</td><td>75.0</td></tr><tr><td>2948</td><td>2012-09-14 09:30:00</td><td>Squash Court</td><td>GUEST GUEST</td><td>70.0</td></tr><tr><td>2941</td><td>2012-09-14 14:00:00</td><td>Massage Room 1</td><td>Jemima Farrell</td><td>39.6</td></tr><tr><td>2949</td><td>2012-09-14 12:30:00</td><td>Squash Court</td><td>GUEST GUEST</td><td>35.0</td></tr><tr><td>2951</td><td>2012-09-14 15:00:00</td><td>Squash Court</td><td>GUEST GUEST</td><td>35.0</td></tr></tbody></table></div>"]
			}
		}],
		"execution_count": 0
	}, {
		"cell_type": "markdown",
		"source": ["#### Q9: This time, produce the same result as in Q8, but using a subquery."],
		"metadata": {
			"application/vnd.databricks.v1+cell": {
				"title": "",
				"showTitle": false,
				"inputWidgets": {},
				"nuid": "31c3b1db-93fd-4f9a-8004-ea158b055649"
			}
		}
	}, {
		"cell_type": "code",
		"source": ["%sql\nSELECT \n  bookid, \n  starttime, \n  facName, \n  CONCAT(members.firstname, \" \", members.surname) AS full_name, \n  CASE WHEN bookMemid != 0 THEN slots * membercost ELSE slots * guestcost END AS cost \nFROM (\n  SELECT *, facilities.name AS facName, bookings.memid AS bookMemid \n  FROM bookings JOIN facilities ON bookings.facid = facilities.facid\n) AS sub\nJOIN members ON sub.memid = members.memid\nWHERE DATE(starttime) = DATE('2012-09-14')\nAND (CASE WHEN bookMemid != 0 THEN slots * membercost ELSE slots * guestcost END) > 30\nORDER BY cost DESC;"],
		"metadata": {
			"application/vnd.databricks.v1+cell": {
				"title": "",
				"showTitle": false,
				"inputWidgets": {},
				"nuid": "0360dffe-b56c-405a-97ef-e4db0685dd3d"
			}
		},
		"outputs": [{
			"output_type": "display_data",
			"metadata": {
				"application/vnd.databricks.v1+output": {
					"overflow": false,
					"datasetInfos": [],
					"data": [
						[2946, "2012-09-14 11:00:00", "Massage Room 2", "GUEST GUEST", 320.0],
						[2937, "2012-09-14 09:00:00", "Massage Room 1", "GUEST GUEST", 160.0],
						[2942, "2012-09-14 16:00:00", "Massage Room 1", "GUEST GUEST", 160.0],
						[2940, "2012-09-14 13:00:00", "Massage Room 1", "GUEST GUEST", 160.0],
						[2926, "2012-09-14 17:00:00", "Tennis Court 2", "GUEST GUEST", 150.0],
						[2925, "2012-09-14 14:00:00", "Tennis Court 2", "GUEST GUEST", 75.0],
						[2922, "2012-09-14 19:00:00", "Tennis Court 1", "GUEST GUEST", 75.0],
						[2920, "2012-09-14 16:00:00", "Tennis Court 1", "GUEST GUEST", 75.0],
						[2948, "2012-09-14 09:30:00", "Squash Court", "GUEST GUEST", 70.0],
						[2941, "2012-09-14 14:00:00", "Massage Room 1", "Jemima Farrell", 39.6],
						[2949, "2012-09-14 12:30:00", "Squash Court", "GUEST GUEST", 35.0],
						[2951, "2012-09-14 15:00:00", "Squash Court", "GUEST GUEST", 35.0]
					],
					"plotOptions": {
						"displayType": "table",
						"customPlotOptions": {},
						"pivotColumns": [],
						"pivotAggregation": null,
						"xColumns": [],
						"yColumns": []
					},
					"columnCustomDisplayInfos": {},
					"aggType": "",
					"isJsonSchema": true,
					"removedWidgets": [],
					"aggSchema": [],
					"schema": [{
						"name": "bookid",
						"type": "\"integer\"",
						"metadata": "{}"
					}, {
						"name": "starttime",
						"type": "\"string\"",
						"metadata": "{}"
					}, {
						"name": "facName",
						"type": "\"string\"",
						"metadata": "{}"
					}, {
						"name": "full_name",
						"type": "\"string\"",
						"metadata": "{}"
					}, {
						"name": "cost",
						"type": "\"double\"",
						"metadata": "{}"
					}],
					"aggError": "",
					"aggData": [],
					"addedWidgets": {},
					"metadata": {},
					"dbfsResultPath": null,
					"type": "table",
					"aggOverflow": false,
					"aggSeriesLimitReached": false,
					"arguments": {}
				}
			},
			"output_type": "display_data",
			"data": {
				"text/html": ["<style scoped>\n  .table-result-container {\n    max-height: 300px;\n    overflow: auto;\n  }\n  table, th, td {\n    border: 1px solid black;\n    border-collapse: collapse;\n  }\n  th, td {\n    padding: 5px;\n  }\n  th {\n    text-align: left;\n  }\n</style><div class='table-result-container'><table class='table-result'><thead style='background-color: white'><tr><th>bookid</th><th>starttime</th><th>facName</th><th>full_name</th><th>cost</th></tr></thead><tbody><tr><td>2946</td><td>2012-09-14 11:00:00</td><td>Massage Room 2</td><td>GUEST GUEST</td><td>320.0</td></tr><tr><td>2937</td><td>2012-09-14 09:00:00</td><td>Massage Room 1</td><td>GUEST GUEST</td><td>160.0</td></tr><tr><td>2942</td><td>2012-09-14 16:00:00</td><td>Massage Room 1</td><td>GUEST GUEST</td><td>160.0</td></tr><tr><td>2940</td><td>2012-09-14 13:00:00</td><td>Massage Room 1</td><td>GUEST GUEST</td><td>160.0</td></tr><tr><td>2926</td><td>2012-09-14 17:00:00</td><td>Tennis Court 2</td><td>GUEST GUEST</td><td>150.0</td></tr><tr><td>2925</td><td>2012-09-14 14:00:00</td><td>Tennis Court 2</td><td>GUEST GUEST</td><td>75.0</td></tr><tr><td>2922</td><td>2012-09-14 19:00:00</td><td>Tennis Court 1</td><td>GUEST GUEST</td><td>75.0</td></tr><tr><td>2920</td><td>2012-09-14 16:00:00</td><td>Tennis Court 1</td><td>GUEST GUEST</td><td>75.0</td></tr><tr><td>2948</td><td>2012-09-14 09:30:00</td><td>Squash Court</td><td>GUEST GUEST</td><td>70.0</td></tr><tr><td>2941</td><td>2012-09-14 14:00:00</td><td>Massage Room 1</td><td>Jemima Farrell</td><td>39.6</td></tr><tr><td>2949</td><td>2012-09-14 12:30:00</td><td>Squash Court</td><td>GUEST GUEST</td><td>35.0</td></tr><tr><td>2951</td><td>2012-09-14 15:00:00</td><td>Squash Court</td><td>GUEST GUEST</td><td>35.0</td></tr></tbody></table></div>"]
			}
		}],
		"execution_count": 0
	}, {
		"cell_type": "markdown",
		"source": ["#### Q10: Produce a list of facilities with a total revenue less than 1000.\n- The output should have facility name and total revenue, sorted by revenue. \n- Remember that there's a different cost for guests and members!"],
		"metadata": {
			"application/vnd.databricks.v1+cell": {
				"title": "",
				"showTitle": false,
				"inputWidgets": {},
				"nuid": "03297462-0e23-406b-a448-5092843f33c1"
			}
		}
	}, {
		"cell_type": "code",
		"source": ["%sql\nSELECT facilities.name, SUM(CASE WHEN bookings.memid != 0 THEN slots * membercost ELSE slots * guestcost END) AS revenue\nFROM facilities \nJOIN bookings \nON facilities.facid = bookings.facid\nGROUP BY facilities.name\nHAVING revenue < 1000\nORDER BY revenue"],
		"metadata": {
			"application/vnd.databricks.v1+cell": {
				"title": "",
				"showTitle": false,
				"inputWidgets": {},
				"nuid": "a6e984c4-d7e9-492a-8855-f74843493790"
			}
		},
		"outputs": [{
			"output_type": "display_data",
			"metadata": {
				"application/vnd.databricks.v1+output": {
					"overflow": false,
					"datasetInfos": [],
					"data": [
						["Table Tennis", 180.0],
						["Snooker Table", 240.0],
						["Pool Table", 270.0]
					],
					"plotOptions": {
						"displayType": "table",
						"customPlotOptions": {},
						"pivotColumns": [],
						"pivotAggregation": null,
						"xColumns": [],
						"yColumns": []
					},
					"columnCustomDisplayInfos": {},
					"aggType": "",
					"isJsonSchema": true,
					"removedWidgets": [],
					"aggSchema": [],
					"schema": [{
						"name": "name",
						"type": "\"string\"",
						"metadata": "{}"
					}, {
						"name": "revenue",
						"type": "\"double\"",
						"metadata": "{}"
					}],
					"aggError": "",
					"aggData": [],
					"addedWidgets": {},
					"metadata": {},
					"dbfsResultPath": null,
					"type": "table",
					"aggOverflow": false,
					"aggSeriesLimitReached": false,
					"arguments": {}
				}
			},
			"output_type": "display_data",
			"data": {
				"text/html": ["<style scoped>\n  .table-result-container {\n    max-height: 300px;\n    overflow: auto;\n  }\n  table, th, td {\n    border: 1px solid black;\n    border-collapse: collapse;\n  }\n  th, td {\n    padding: 5px;\n  }\n  th {\n    text-align: left;\n  }\n</style><div class='table-result-container'><table class='table-result'><thead style='background-color: white'><tr><th>name</th><th>revenue</th></tr></thead><tbody><tr><td>Table Tennis</td><td>180.0</td></tr><tr><td>Snooker Table</td><td>240.0</td></tr><tr><td>Pool Table</td><td>270.0</td></tr></tbody></table></div>"]
			}
		}],
		"execution_count": 0
	}, {
		"cell_type": "code",
		"source": [""],
		"metadata": {
			"application/vnd.databricks.v1+cell": {
				"title": "",
				"showTitle": false,
				"inputWidgets": {},
				"nuid": "3d64402d-f6bd-4b02-a1b9-c9cb83beeac4"
			}
		},
		"outputs": [{
			"output_type": "display_data",
			"metadata": {
				"application/vnd.databricks.v1+output": {
					"data": "",
					"errorSummary": "",
					"metadata": {},
					"errorTraceType": null,
					"type": "ipynbError",
					"arguments": {}
				}
			},
			"output_type": "display_data",
			"data": {
				"text/html": ["<style scoped>\n  .ansiout {\n    display: block;\n    unicode-bidi: embed;\n    white-space: pre-wrap;\n    word-wrap: break-word;\n    word-break: break-all;\n    font-family: \"Source Code Pro\", \"Menlo\", monospace;;\n    font-size: 13px;\n    color: #555;\n    margin-left: 4px;\n    line-height: 19px;\n  }\n</style>"]
			}
		}],
		"execution_count": 0
	}],
	"metadata": {
		"language_info": {
			"mimetype": "text/x-python",
			"name": "python",
			"pygments_lexer": "ipython3",
			"codemirror_mode": {
				"name": "ipython",
				"version": 3
			},
			"version": "3.8.10",
			"nbconvert_exporter": "python",
			"file_extension": ".py"
		},
		"name": "Mini_Project_SQL_with_Spark",
		"notebookId": 1931807081501742,
		"kernelspec": {
			"display_name": "Python 3 (ipykernel)",
			"language": "python",
			"name": "python3"
		},
		"application/vnd.databricks.v1+notebook": {
			"notebookName": "Mini_Project_SQL_with_Spark",
			"dashboards": [],
			"notebookMetadata": {
				"pythonIndentUnit": 2
			},
			"language": "python",
			"widgets": {},
			"notebookOrigID": 2741002430019735
		}
	},
	"nbformat": 4,
	"nbformat_minor": 0
}